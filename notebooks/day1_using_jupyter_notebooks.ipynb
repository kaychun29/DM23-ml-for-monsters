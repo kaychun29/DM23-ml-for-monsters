{
 "cells": [
  {
   "cell_type": "markdown",
   "metadata": {},
   "source": [
    "# How to use Jupyter Notebooks"
   ]
  },
  {
   "cell_type": "markdown",
   "metadata": {},
   "source": [
    "Jupyter notebooks mix text (\"markdown\") with code boxes. You can write and run Python code in code boxes, and you can write and format text in markdown boxes.\n",
    "\n",
    "To execute Python code in a code box, click on a code box and hit \"Run\", for example on the box below. "
   ]
  },
  {
   "cell_type": "code",
   "execution_count": 2,
   "metadata": {},
   "outputs": [
    {
     "name": "stdout",
     "output_type": "stream",
     "text": [
      "Hit 'Run' to execute this Python code.\n"
     ]
    }
   ],
   "source": [
    "print(\"Hit 'Run' to execute this Python code.\")"
   ]
  },
  {
   "cell_type": "code",
   "execution_count": null,
   "metadata": {},
   "outputs": [],
   "source": []
  },
  {
   "cell_type": "markdown",
   "metadata": {},
   "source": [
    "You can also use a keyboard shortcut to run the code in the box you are currently in. The command for that is\n",
    "\n",
    "Shift+Enter."
   ]
  },
  {
   "cell_type": "markdown",
   "metadata": {},
   "source": [
    "## Getting a new empty box\n",
    "\n",
    "You can always get additional boxes in a Jupyter Notebook. Hit ESC B to get a new box below the one you are currently in. (Or use ESC A to get a new box above.) Then hit \"Enter\" to get out of command mode.\n",
    "\n",
    "(More info: ESC gets you into command mode, and then B means \"make a new box below.\" Enter gets you out of command mode, and into the mode where you can type in the current box.)"
   ]
  },
  {
   "cell_type": "markdown",
   "metadata": {},
   "source": [
    "## Code versus Markdown\n",
    "\n",
    "You can see in the top menu whether the box you are currently in is \"Code\" or \"Markdown\". In that drop-down menu, you can switch the current box between Code and Markdown.\n",
    "\n",
    "Or you can hit ESC M to make the current box Markdown. (Then remember to hit Enter to get out of command mode). ESC Y makes the current box Code. "
   ]
  },
  {
   "cell_type": "markdown",
   "metadata": {},
   "source": [
    "## Prettier Markdown\n",
    "\n",
    "In Markdown mode, ```*surrounding text by a single star on either side*``` makes it *italic*. ```**Two stars**``` make it **boldface.**\n",
    "\n",
    "Putting triple back quotes around text makes it look like ```code```.\n",
    "\n",
    "When you put a single hash mark at the beginning of the line, the following text will be formatted as a big heading. With two hash marks, you get a slightly less big heading, and so on.\n",
    "\n"
   ]
  },
  {
   "cell_type": "markdown",
   "metadata": {},
   "source": [
    "## More Jupyter Notebook tricks\n",
    "\n",
    "... can be found here: https://www.dataquest.io/blog/jupyter-notebook-tips-tricks-shortcuts/"
   ]
  },
  {
   "cell_type": "markdown",
   "metadata": {},
   "source": [
    "## Challenge Exercises\n",
    "\n",
    "If you're done and bored, take a stab at Allison Parrish's exercises on text processing from the command line!\n",
    "\n",
    "https://rwet.decontextualize.com/book/unix/\n",
    "\n",
    "Go from first time opening terminal to chopping and screwing poetry !"
   ]
  },
  {
   "cell_type": "code",
   "execution_count": null,
   "metadata": {},
   "outputs": [],
   "source": []
  }
 ],
 "metadata": {
  "kernelspec": {
   "display_name": "Python 3 (ipykernel)",
   "language": "python",
   "name": "python3"
  },
  "language_info": {
   "codemirror_mode": {
    "name": "ipython",
    "version": 3
   },
   "file_extension": ".py",
   "mimetype": "text/x-python",
   "name": "python",
   "nbconvert_exporter": "python",
   "pygments_lexer": "ipython3",
   "version": "3.11.4"
  }
 },
 "nbformat": 4,
 "nbformat_minor": 4
}
